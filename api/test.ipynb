{
 "cells": [
  {
   "cell_type": "code",
   "execution_count": 36,
   "id": "e79597a4",
   "metadata": {},
   "outputs": [
    {
     "data": {
      "text/plain": [
       "True"
      ]
     },
     "execution_count": 36,
     "metadata": {},
     "output_type": "execute_result"
    }
   ],
   "source": [
    "from langchain.text_splitter import RecursiveCharacterTextSplitter\n",
    "from langchain_nomic.embeddings import NomicEmbeddings\n",
    "from langchain_community.document_loaders import WebBaseLoader\n",
    "from langchain_qdrant import QdrantVectorStore\n",
    "from qdrant_client import QdrantClient\n",
    "from qdrant_client.http.models import Distance, VectorParams\n",
    "from openai import OpenAI\n",
    "from dotenv import load_dotenv\n",
    "import os\n",
    "\n",
    "load_dotenv()\n"
   ]
  },
  {
   "cell_type": "code",
   "execution_count": null,
   "id": "1cf6e1b4",
   "metadata": {},
   "outputs": [],
   "source": [
    "embeddings = NomicEmbeddings(model=\"nomic-embed-text-v1.5\", inference_mode=\"local\")\n",
    "url = \"\"\n",
    "api_key = \"\""
   ]
  },
  {
   "cell_type": "code",
   "execution_count": null,
   "id": "d05fdf6a",
   "metadata": {},
   "outputs": [],
   "source": [
    "html_urls = [\n",
    "    \"https://chaidocs.vercel.app/youtube/chai-aur-html/welcome/\",\n",
    "    \"https://chaidocs.vercel.app/youtube/chai-aur-html/introduction/\",\n",
    "    \"https://chaidocs.vercel.app/youtube/chai-aur-html/emmit-crash-course/\",\n",
    "    \"https://chaidocs.vercel.app/youtube/chai-aur-html/html-tags/\"\n",
    "]\n",
    "\n",
    "html_docs = []\n",
    "for url in html_urls:\n",
    "    loader = WebBaseLoader(url)\n",
    "    html_docs.extend(loader.load())\n",
    "\n",
    "# Split text\n",
    "text_splitter = RecursiveCharacterTextSplitter.from_tiktoken_encoder(chunk_size=800, chunk_overlap=200)\n",
    "html_doc_splits = text_splitter.split_documents(html_docs)\n",
    "\n",
    "\n",
    "qdrant = QdrantVectorStore.from_documents(\n",
    "    git_doc_splits,\n",
    "    embeddings,\n",
    "    url=url,\n",
    "    prefer_grpc=True,\n",
    "    api_key=api_key,\n",
    "    collection_name=\"html\",\n",
    ")\n"
   ]
  },
  {
   "cell_type": "code",
   "execution_count": null,
   "id": "e2d5d9d8",
   "metadata": {},
   "outputs": [],
   "source": [
    "# GIT\n",
    "git_urls = [\n",
    "    \"https://chaidocs.vercel.app/youtube/chai-aur-git/welcome/\",\n",
    "    \"https://chaidocs.vercel.app/youtube/chai-aur-git/introduction/\",\n",
    "    \"https://chaidocs.vercel.app/youtube/chai-aur-git/terminology/\",\n",
    "    \"https://chaidocs.vercel.app/youtube/chai-aur-git/behind-the-scenes/\",\n",
    "    \"https://chaidocs.vercel.app/youtube/chai-aur-git/branches/\",\n",
    "    \"https://chaidocs.vercel.app/youtube/chai-aur-git/diff-stash-tags/\",\n",
    "    \"https://chaidocs.vercel.app/youtube/chai-aur-git/managing-history/\",\n",
    "    \"https://chaidocs.vercel.app/youtube/chai-aur-git/github/\"\n",
    "]\n",
    "\n",
    "git_docs = []\n",
    "for url in git_urls:\n",
    "    loader = WebBaseLoader(url)\n",
    "    git_docs.extend(loader.load())\n",
    "\n",
    "\n",
    "text_splitter = RecursiveCharacterTextSplitter.from_tiktoken_encoder(\n",
    "    chunk_size=800, chunk_overlap=200\n",
    ")\n",
    "\n",
    "git_doc_splits = text_splitter.split_documents(git_docs)\n",
    "\n",
    "qdrant = QdrantVectorStore.from_documents(\n",
    "    git_doc_splits,\n",
    "    embeddings,\n",
    "    url=url,\n",
    "    prefer_grpc=True,\n",
    "    api_key=api_key,\n",
    "    collection_name=\"git\",\n",
    ")"
   ]
  },
  {
   "cell_type": "code",
   "execution_count": null,
   "id": "3aa2b86c",
   "metadata": {},
   "outputs": [],
   "source": [
    "cpp_urls = [\n",
    "    \"https://chaidocs.vercel.app/youtube/chai-aur-c/welcome/\",\n",
    "    \"https://chaidocs.vercel.app/youtube/chai-aur-c/introduction/\",\n",
    "    \"https://chaidocs.vercel.app/youtube/chai-aur-c/hello-world/\",\n",
    "    \"https://chaidocs.vercel.app/youtube/chai-aur-c/variables-and-constants/\",\n",
    "    \"https://chaidocs.vercel.app/youtube/chai-aur-c/data-types/\",\n",
    "    \"https://chaidocs.vercel.app/youtube/chai-aur-c/operators/\",\n",
    "    \"https://chaidocs.vercel.app/youtube/chai-aur-c/control-flow/\",\n",
    "    \"https://chaidocs.vercel.app/youtube/chai-aur-c/loops/\",\n",
    "    \"https://chaidocs.vercel.app/youtube/chai-aur-c/functions/\"\n",
    "]\n",
    "\n",
    "\n",
    "cpp_docs = []\n",
    "for url in cpp_urls:\n",
    "    loader = WebBaseLoader(url)\n",
    "    cpp_docs.extend(loader.load())\n",
    "\n",
    "\n",
    "text_splitter = RecursiveCharacterTextSplitter.from_tiktoken_encoder(\n",
    "    chunk_size=800, chunk_overlap=200\n",
    ")\n",
    "\n",
    "cpp_doc_splits = text_splitter.split_documents(cpp_docs)\n",
    "\n",
    "qdrant = QdrantVectorStore.from_documents(\n",
    "    cpp_doc_splits,\n",
    "    embeddings,\n",
    "    url=url,\n",
    "    prefer_grpc=True,\n",
    "    api_key=api_key,\n",
    "    collection_name=\"cpp\",\n",
    ")\n"
   ]
  },
  {
   "cell_type": "code",
   "execution_count": null,
   "id": "8d943269",
   "metadata": {},
   "outputs": [],
   "source": [
    "django_urls = [\n",
    "    \"https://chaidocs.vercel.app/youtube/chai-aur-django/welcome/\",\n",
    "    \"https://chaidocs.vercel.app/youtube/chai-aur-django/getting-started/\",\n",
    "    \"https://chaidocs.vercel.app/youtube/chai-aur-django/jinja-templates/\",\n",
    "    \"https://chaidocs.vercel.app/youtube/chai-aur-django/tailwind/\",\n",
    "    \"https://chaidocs.vercel.app/youtube/chai-aur-django/models/\",\n",
    "    \"https://chaidocs.vercel.app/youtube/chai-aur-django/relationships-and-forms/\"\n",
    "]\n",
    "\n",
    "django_docs = []\n",
    "for url in django_urls:\n",
    "    loader = WebBaseLoader(url)\n",
    "    django_docs.extend(loader.load())\n",
    "\n",
    "\n",
    "text_splitter = RecursiveCharacterTextSplitter.from_tiktoken_encoder(\n",
    "    chunk_size=800, chunk_overlap=200\n",
    ")\n",
    "\n",
    "django_doc_splits = text_splitter.split_documents(django_docs)\n",
    "\n",
    "\n",
    "qdrant = QdrantVectorStore.from_documents(\n",
    "    django_doc_splits,\n",
    "    embeddings,\n",
    "    url=url,\n",
    "    prefer_grpc=True,\n",
    "    api_key=api_key,\n",
    "    collection_name=\"django\",\n",
    ")\n"
   ]
  },
  {
   "cell_type": "code",
   "execution_count": null,
   "id": "fa2ff04c",
   "metadata": {},
   "outputs": [],
   "source": [
    "\n",
    "sql_urls = [\n",
    "    \"https://chaidocs.vercel.app/youtube/chai-aur-sql/welcome/\",\n",
    "    \"https://chaidocs.vercel.app/youtube/chai-aur-sql/introduction/\",\n",
    "    \"https://chaidocs.vercel.app/youtube/chai-aur-sql/postgres/\",\n",
    "    \"https://chaidocs.vercel.app/youtube/chai-aur-sql/normalization/\",\n",
    "    \"https://chaidocs.vercel.app/youtube/chai-aur-sql/database-design-exercise/\",\n",
    "    \"https://chaidocs.vercel.app/youtube/chai-aur-sql/joins-and-keys/\",\n",
    "    \"https://chaidocs.vercel.app/youtube/chai-aur-sql/joins-exercise/\"\n",
    "]\n",
    "\n",
    "sql_docs = []\n",
    "for url in sql_urls:\n",
    "    loader = WebBaseLoader(url)\n",
    "    sql_docs.extend(loader.load())\n",
    "\n",
    "\n",
    "text_splitter = RecursiveCharacterTextSplitter.from_tiktoken_encoder(\n",
    "    chunk_size=800, chunk_overlap=200\n",
    ")\n",
    "\n",
    "sql_doc_splits = text_splitter.split_documents(sql_docs)\n",
    "\n",
    "qdrant = QdrantVectorStore.from_documents(\n",
    "    sql_doc_splits,\n",
    "    embeddings,\n",
    "    url=url,\n",
    "    prefer_grpc=True,\n",
    "    api_key=api_key,\n",
    "    collection_name=\"sql\",\n",
    ")\n"
   ]
  },
  {
   "cell_type": "code",
   "execution_count": null,
   "id": "c0a98ca8",
   "metadata": {},
   "outputs": [],
   "source": [
    "\n",
    "devops_urls = [\n",
    "    \"https://chaidocs.vercel.app/youtube/chai-aur-devops/welcome/\",\n",
    "    \"https://chaidocs.vercel.app/youtube/chai-aur-devops/setup-vpc/\",\n",
    "    \"https://chaidocs.vercel.app/youtube/chai-aur-devops/setup-nginx/\",\n",
    "    \"https://chaidocs.vercel.app/youtube/chai-aur-devops/nginx-rate-limiting/\",\n",
    "    \"https://chaidocs.vercel.app/youtube/chai-aur-devops/nginx-ssl-setup/\",\n",
    "    \"https://chaidocs.vercel.app/youtube/chai-aur-devops/node-nginx-vps/\",\n",
    "    \"https://chaidocs.vercel.app/youtube/chai-aur-devops/postgresql-docker/\",\n",
    "    \"https://chaidocs.vercel.app/youtube/chai-aur-devops/postgresql-vps/\",\n",
    "    \"https://chaidocs.vercel.app/youtube/chai-aur-devops/node-logger/\"\n",
    "]\n",
    "\n",
    "\n",
    "devops_docs = []\n",
    "for url in devops_urls:\n",
    "    loader = WebBaseLoader(url)\n",
    "    devops_docs.extend(loader.load())\n",
    "\n",
    "\n",
    "text_splitter = RecursiveCharacterTextSplitter.from_tiktoken_encoder(\n",
    "    chunk_size=800, chunk_overlap=200\n",
    ")\n",
    "\n",
    "devops_doc_splits = text_splitter.split_documents(devops_docs)\n",
    "\n",
    "qdrant = QdrantVectorStore.from_documents(\n",
    "    devops_doc_splits,\n",
    "    embeddings,\n",
    "    url=url,\n",
    "    prefer_grpc=True,\n",
    "    api_key=api_key,\n",
    "    collection_name=\"devops\",\n",
    ")\n",
    "\n"
   ]
  },
  {
   "cell_type": "code",
   "execution_count": 37,
   "id": "e7d8472f",
   "metadata": {},
   "outputs": [],
   "source": [
    "client = OpenAI(\n",
    "    base_url=\"https://api.groq.com/openai/v1\",\n",
    "    api_key=os.getenv(\"GROQ_API_KEY\")\n",
    ")"
   ]
  },
  {
   "cell_type": "code",
   "execution_count": null,
   "id": "8a7d55ae",
   "metadata": {},
   "outputs": [],
   "source": [
    "# Local\n",
    "\n",
    "# html_retriver = QdrantVectorStore.from_existing_collection(\n",
    "#     url=url,\n",
    "#     collection_name=\"html\",\n",
    "#     embedding=embeddings\n",
    "# )"
   ]
  },
  {
   "cell_type": "code",
   "execution_count": 41,
   "id": "e8a8ab64",
   "metadata": {},
   "outputs": [
    {
     "name": "stderr",
     "output_type": "stream",
     "text": [
      "Embedding texts: 100%|██████████| 1/1 [00:00<00:00,  8.04inputs/s]\n"
     ]
    }
   ],
   "source": [
    "# Cloud\n",
    "html_retriver = QdrantVectorStore.from_existing_collection(\n",
    "    embedding=embeddings,\n",
    "    url=url,\n",
    "    prefer_grpc=True,\n",
    "    api_key=api_key,\n",
    "    collection_name=\"html\",\n",
    ")\n",
    "\n"
   ]
  },
  {
   "cell_type": "code",
   "execution_count": 44,
   "id": "6787d8bb",
   "metadata": {},
   "outputs": [
    {
     "name": "stderr",
     "output_type": "stream",
     "text": [
      "Embedding texts: 100%|██████████| 1/1 [00:00<00:00,  7.06inputs/s]\n"
     ]
    },
    {
     "ename": "AttributeError",
     "evalue": "'Stream' object has no attribute 'choices'",
     "output_type": "error",
     "traceback": [
      "\u001b[0;31m---------------------------------------------------------------------------\u001b[0m",
      "\u001b[0;31mAttributeError\u001b[0m                            Traceback (most recent call last)",
      "Cell \u001b[0;32mIn[44], line 24\u001b[0m\n\u001b[1;32m      7\u001b[0m system_prompt \u001b[38;5;241m=\u001b[39m \u001b[38;5;124mf\u001b[39m\u001b[38;5;124m\"\"\"\u001b[39m\n\u001b[1;32m      8\u001b[0m \u001b[38;5;124mYou are a helpful assistant for the chaidocs and you expert in giving information based on the context\u001b[39m\n\u001b[1;32m      9\u001b[0m \n\u001b[1;32m     10\u001b[0m \u001b[38;5;132;01m{\u001b[39;00mcontext\u001b[38;5;132;01m}\u001b[39;00m\n\u001b[1;32m     11\u001b[0m \u001b[38;5;124m\"\"\"\u001b[39m\n\u001b[1;32m     14\u001b[0m response \u001b[38;5;241m=\u001b[39m client\u001b[38;5;241m.\u001b[39mchat\u001b[38;5;241m.\u001b[39mcompletions\u001b[38;5;241m.\u001b[39mcreate(\n\u001b[1;32m     15\u001b[0m     model\u001b[38;5;241m=\u001b[39m\u001b[38;5;124m\"\u001b[39m\u001b[38;5;124mllama-3.3-70b-versatile\u001b[39m\u001b[38;5;124m\"\u001b[39m,\n\u001b[1;32m     16\u001b[0m     messages\u001b[38;5;241m=\u001b[39m[\n\u001b[0;32m   (...)\u001b[0m\n\u001b[1;32m     20\u001b[0m     stream\u001b[38;5;241m=\u001b[39m\u001b[38;5;28;01mTrue\u001b[39;00m\n\u001b[1;32m     21\u001b[0m )\n\u001b[0;32m---> 24\u001b[0m \u001b[38;5;28mprint\u001b[39m(\u001b[38;5;124m\"\u001b[39m\u001b[38;5;124mBot: \u001b[39m\u001b[38;5;124m\"\u001b[39m, \u001b[43mresponse\u001b[49m\u001b[38;5;241;43m.\u001b[39;49m\u001b[43mchoices\u001b[49m[\u001b[38;5;241m0\u001b[39m]\u001b[38;5;241m.\u001b[39mmessage\u001b[38;5;241m.\u001b[39mcontent)\n",
      "\u001b[0;31mAttributeError\u001b[0m: 'Stream' object has no attribute 'choices'"
     ]
    }
   ],
   "source": [
    "query = input(\"> \")\n",
    "\n",
    "context = html_retriver.similarity_search(query=query)\n",
    "\n",
    "# print(\"Relevant Chunks\", search_result)\n",
    "\n",
    "system_prompt = f\"\"\"\n",
    "You are a helpful assistant for the chaidocs and you expert in giving information based on the context\n",
    "\n",
    "{context}\n",
    "\"\"\"\n",
    "\n",
    "\n",
    "response = client.chat.completions.create(\n",
    "    model=\"llama-3.3-70b-versatile\",\n",
    "    messages=[\n",
    "        { \"role\": \"system\", \"content\": system_prompt },\n",
    "        { \"role\": \"user\", \"content\": query }\n",
    "    ],\n",
    ")\n",
    "\n",
    "\n",
    "print(\"Bot: \", response.choices[0].message.content)\n",
    "\n",
    "\n"
   ]
  },
  {
   "cell_type": "code",
   "execution_count": 50,
   "id": "e1cf78ac",
   "metadata": {},
   "outputs": [],
   "source": [
    "from langchain.schema import Document"
   ]
  },
  {
   "cell_type": "code",
   "execution_count": 51,
   "id": "5a224ae8",
   "metadata": {},
   "outputs": [],
   "source": [
    "data = [Document(metadata={'source': 'https://chaidocs.vercel.app/youtube/chai-aur-git/terminology/', 'description': 'Common terminology in Git and Github', 'title': 'Terminology | Chai aur Docs', 'language': 'en', '_id': 'fc3a79fc-e774-4ff2-b53f-cec02f31ec90', '_collection_name': 'git'}, page_content='Not all folders are meant to be tracked by git. Here we can see that all green folders are projects are getting tracked by git but red ones are not.\\nYour config settings\\nGithub has a lot of settings that you can change. You can change your username, email, and other settings. Whenever you checkpoint your changes, git will add some information about your such as your username and email to the commit. There is a git config file that stores all the settings that you have changed. You can make settings like what editor you would like to use etc. There are some global settings and some repository specific settings.\\nLet’s setup your email and username in this config file. I would recommend you to create an account on github and then use the email and username that you have created.\\nTerminal windowgit config --global user.email \"your-email@example.com\"git config --global user.name \"Your Name\"\\nNow you can check your config settings:\\nTerminal windowgit config --list\\nThis will show you all the settings that you have changed.\\nCreating a repository\\nCreating a repository is a process of creating a new folder on your system and initializing it as a git repository. It’s just regular folder to code your project, you are just asking git to track it. To create a repository, you can use the following command:\\nTerminal windowgit statusgit init\\ngit status command will show you the current state of your repository. git init command will create a new folder on your system and initialize it as a git repository. This adds a hidden .git folder to your project.\\nCommit\\ncommit is a way to save your changes to your repository. It is a way to record your changes and make them permanent. You can think of a commit as a snapshot of your code at a particular point in time. When you commit your changes, you are telling git to save them in a permanent way. This way, you can always go back to that point in time and see what you changed.\\nUsual flow looks like this:\\n\\nComplete git flow\\nA complete git flow, along with pushing the code to github looks like this:'), Document(metadata={'description': 'Common terminology in Git and Github', 'source': 'https://chaidocs.vercel.app/youtube/chai-aur-git/terminology/', 'title': 'Terminology | Chai aur Docs', 'language': 'en', '_id': '8752fa7d-0692-44b9-8653-a3f721f8709f', '_collection_name': 'git'}, page_content='Complete git flow\\nA complete git flow, along with pushing the code to github looks like this:\\n\\nWhen you want to track a new folder, you first use init command to create a new repository. Then you can use add command to add the folder to the repository. After that you can use commit command to save the changes. Finally you can use push command to push the changes to github. Of course there is more to it but this is the basic flow.\\nStage\\nStage is a way to tell git to track a particular file or folder. You can use the following command to stage a file:\\nTerminal windowgit initgit add <file> <file2>git status\\nHere we are initializing the repository and adding a file to the repository. Then we can see that the file is now being tracked by git. Currently our files are in staging area, this means that we have not yet committed the changes but are ready to be committed.\\nCommit\\nTerminal windowgit commit -m \"commit message\"git status\\nHere we are committing the changes to the repository. We can see that the changes are now committed to the repository. The -m flag is used to add a message to the commit. This message is a short description of the changes that were made. You can use this message to remember what the changes were.\\nMissing the -m flag will result in an action that opens your default settings editor, which is usually VIM. We will change this to vscode in the next section.\\nLogs\\nTerminal windowgit log\\nThis command will show you the history of your repository. It will show you all the commits that were made to the repository. You can use the --oneline flag to show only the commit message. This will make the output more compact and easier to read.\\n☕️ - Check git log docs\\n\\nAtomic commits are a way to make sure that each commit is a self-contained unit of work. This means that if one commit fails, you can always go back to a previous commit and fix the issue. This is important for maintaining a clean and organized history in your repository.\\n\\nchange default code editor\\nYou can change the default code editor in your system to vscode. To do this, you can use the following command:\\nTerminal windowgit config --global core.editor \"code --wait\"\\ngitignore\\nGitignore is a file that tells git which files and folders to ignore. It is a way to prevent git from tracking certain files or folders. You can create a gitignore file and add list of files and folders to ignore by using the following command:\\nExample:\\n.gitignorenode_modules.env.vscode\\nNow, when you run the git status command, it will not show the node_modules and .vscode folders as being tracked by git.\\nConclusion\\nIn this section, we have learned about the basics of git and how to use it to track changes to your files and folders. We have also learned about the different commands that you can use to interact with your repository, such as init, add, commit, log, etc By the end of this section, you should have a good understanding of how to use git and how to use it effectively to manage your code.\\nStart your journey with ChaiCode \\nAll of our courses are available on chaicode.com. Feel free to check them out.\\n     \\nComplied by: Hitesh Choudhary Last updated: Apr 20, 2025   PreviousGit and GitHubNext Behind the scenes    \\nContribute\\n    \\nCommunity\\n   \\nSponsor')]"
   ]
  },
  {
   "cell_type": "code",
   "execution_count": 58,
   "id": "2b59bac0",
   "metadata": {},
   "outputs": [
    {
     "name": "stdout",
     "output_type": "stream",
     "text": [
      "{'source': 'https://chaidocs.vercel.app/youtube/chai-aur-git/terminology/', 'description': 'Common terminology in Git and Github', 'title': 'Terminology | Chai aur Docs', 'language': 'en', '_id': 'fc3a79fc-e774-4ff2-b53f-cec02f31ec90', '_collection_name': 'git'}\n",
      "https://chaidocs.vercel.app/youtube/chai-aur-git/terminology/\n"
     ]
    }
   ],
   "source": [
    "print(data[0].metadata)\n",
    "print(data[0].metadata.get(\"source\"))"
   ]
  },
  {
   "cell_type": "code",
   "execution_count": null,
   "id": "d7f16f7a",
   "metadata": {},
   "outputs": [],
   "source": []
  }
 ],
 "metadata": {
  "kernelspec": {
   "display_name": ".venv",
   "language": "python",
   "name": "python3"
  },
  "language_info": {
   "codemirror_mode": {
    "name": "ipython",
    "version": 3
   },
   "file_extension": ".py",
   "mimetype": "text/x-python",
   "name": "python",
   "nbconvert_exporter": "python",
   "pygments_lexer": "ipython3",
   "version": "3.10.16"
  }
 },
 "nbformat": 4,
 "nbformat_minor": 5
}
